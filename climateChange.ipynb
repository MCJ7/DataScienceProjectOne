{
 "cells": [
  {
   "cell_type": "code",
   "execution_count": 681,
   "id": "4cbd68b5",
   "metadata": {
    "hide_input": false
   },
   "outputs": [],
   "source": [
    "import numpy as np\n",
    "import pandas as pd\n",
    "import scipy.stats as stats\n",
    "import matplotlib.pyplot as plt"
   ]
  },
  {
   "cell_type": "markdown",
   "id": "7e0a50a2",
   "metadata": {},
   "source": [
    "# Temperature"
   ]
  },
  {
   "cell_type": "code",
   "execution_count": 774,
   "id": "43c65c45",
   "metadata": {
    "hide_input": false
   },
   "outputs": [
    {
     "data": {
      "text/html": [
       "<div>\n",
       "<style scoped>\n",
       "    .dataframe tbody tr th:only-of-type {\n",
       "        vertical-align: middle;\n",
       "    }\n",
       "\n",
       "    .dataframe tbody tr th {\n",
       "        vertical-align: top;\n",
       "    }\n",
       "\n",
       "    .dataframe thead th {\n",
       "        text-align: right;\n",
       "    }\n",
       "</style>\n",
       "<table border=\"1\" class=\"dataframe\">\n",
       "  <thead>\n",
       "    <tr style=\"text-align: right;\">\n",
       "      <th></th>\n",
       "      <th>Area Code</th>\n",
       "      <th>Months Code</th>\n",
       "      <th>Months</th>\n",
       "      <th>Element Code</th>\n",
       "      <th>Element</th>\n",
       "      <th>Unit</th>\n",
       "      <th>Y1961</th>\n",
       "      <th>Y1962</th>\n",
       "      <th>Y1963</th>\n",
       "      <th>Y1964</th>\n",
       "      <th>...</th>\n",
       "      <th>Y2010</th>\n",
       "      <th>Y2011</th>\n",
       "      <th>Y2012</th>\n",
       "      <th>Y2013</th>\n",
       "      <th>Y2014</th>\n",
       "      <th>Y2015</th>\n",
       "      <th>Y2016</th>\n",
       "      <th>Y2017</th>\n",
       "      <th>Y2018</th>\n",
       "      <th>Y2019</th>\n",
       "    </tr>\n",
       "    <tr>\n",
       "      <th>Area</th>\n",
       "      <th></th>\n",
       "      <th></th>\n",
       "      <th></th>\n",
       "      <th></th>\n",
       "      <th></th>\n",
       "      <th></th>\n",
       "      <th></th>\n",
       "      <th></th>\n",
       "      <th></th>\n",
       "      <th></th>\n",
       "      <th></th>\n",
       "      <th></th>\n",
       "      <th></th>\n",
       "      <th></th>\n",
       "      <th></th>\n",
       "      <th></th>\n",
       "      <th></th>\n",
       "      <th></th>\n",
       "      <th></th>\n",
       "      <th></th>\n",
       "      <th></th>\n",
       "    </tr>\n",
       "  </thead>\n",
       "  <tbody>\n",
       "    <tr>\n",
       "      <th>Afghanistan</th>\n",
       "      <td>2</td>\n",
       "      <td>7001</td>\n",
       "      <td>January</td>\n",
       "      <td>7271</td>\n",
       "      <td>Temperature change</td>\n",
       "      <td>°C</td>\n",
       "      <td>0.777</td>\n",
       "      <td>0.062</td>\n",
       "      <td>2.744</td>\n",
       "      <td>-5.232</td>\n",
       "      <td>...</td>\n",
       "      <td>3.601</td>\n",
       "      <td>1.179</td>\n",
       "      <td>-0.583</td>\n",
       "      <td>1.233</td>\n",
       "      <td>1.755</td>\n",
       "      <td>1.943</td>\n",
       "      <td>3.416</td>\n",
       "      <td>1.201</td>\n",
       "      <td>1.996</td>\n",
       "      <td>2.951</td>\n",
       "    </tr>\n",
       "    <tr>\n",
       "      <th>Afghanistan</th>\n",
       "      <td>2</td>\n",
       "      <td>7001</td>\n",
       "      <td>January</td>\n",
       "      <td>6078</td>\n",
       "      <td>Standard Deviation</td>\n",
       "      <td>°C</td>\n",
       "      <td>1.950</td>\n",
       "      <td>1.950</td>\n",
       "      <td>1.950</td>\n",
       "      <td>1.950</td>\n",
       "      <td>...</td>\n",
       "      <td>1.950</td>\n",
       "      <td>1.950</td>\n",
       "      <td>1.950</td>\n",
       "      <td>1.950</td>\n",
       "      <td>1.950</td>\n",
       "      <td>1.950</td>\n",
       "      <td>1.950</td>\n",
       "      <td>1.950</td>\n",
       "      <td>1.950</td>\n",
       "      <td>1.950</td>\n",
       "    </tr>\n",
       "    <tr>\n",
       "      <th>Afghanistan</th>\n",
       "      <td>2</td>\n",
       "      <td>7002</td>\n",
       "      <td>February</td>\n",
       "      <td>7271</td>\n",
       "      <td>Temperature change</td>\n",
       "      <td>°C</td>\n",
       "      <td>-1.743</td>\n",
       "      <td>2.465</td>\n",
       "      <td>3.919</td>\n",
       "      <td>-0.202</td>\n",
       "      <td>...</td>\n",
       "      <td>1.212</td>\n",
       "      <td>0.321</td>\n",
       "      <td>-3.201</td>\n",
       "      <td>1.494</td>\n",
       "      <td>-3.187</td>\n",
       "      <td>2.699</td>\n",
       "      <td>2.251</td>\n",
       "      <td>-0.323</td>\n",
       "      <td>2.705</td>\n",
       "      <td>0.086</td>\n",
       "    </tr>\n",
       "    <tr>\n",
       "      <th>Afghanistan</th>\n",
       "      <td>2</td>\n",
       "      <td>7002</td>\n",
       "      <td>February</td>\n",
       "      <td>6078</td>\n",
       "      <td>Standard Deviation</td>\n",
       "      <td>°C</td>\n",
       "      <td>2.597</td>\n",
       "      <td>2.597</td>\n",
       "      <td>2.597</td>\n",
       "      <td>2.597</td>\n",
       "      <td>...</td>\n",
       "      <td>2.597</td>\n",
       "      <td>2.597</td>\n",
       "      <td>2.597</td>\n",
       "      <td>2.597</td>\n",
       "      <td>2.597</td>\n",
       "      <td>2.597</td>\n",
       "      <td>2.597</td>\n",
       "      <td>2.597</td>\n",
       "      <td>2.597</td>\n",
       "      <td>2.597</td>\n",
       "    </tr>\n",
       "    <tr>\n",
       "      <th>Afghanistan</th>\n",
       "      <td>2</td>\n",
       "      <td>7003</td>\n",
       "      <td>March</td>\n",
       "      <td>7271</td>\n",
       "      <td>Temperature change</td>\n",
       "      <td>°C</td>\n",
       "      <td>0.516</td>\n",
       "      <td>1.336</td>\n",
       "      <td>0.403</td>\n",
       "      <td>1.659</td>\n",
       "      <td>...</td>\n",
       "      <td>3.390</td>\n",
       "      <td>0.748</td>\n",
       "      <td>-0.527</td>\n",
       "      <td>2.246</td>\n",
       "      <td>-0.076</td>\n",
       "      <td>-0.497</td>\n",
       "      <td>2.296</td>\n",
       "      <td>0.834</td>\n",
       "      <td>4.418</td>\n",
       "      <td>0.234</td>\n",
       "    </tr>\n",
       "    <tr>\n",
       "      <th>...</th>\n",
       "      <td>...</td>\n",
       "      <td>...</td>\n",
       "      <td>...</td>\n",
       "      <td>...</td>\n",
       "      <td>...</td>\n",
       "      <td>...</td>\n",
       "      <td>...</td>\n",
       "      <td>...</td>\n",
       "      <td>...</td>\n",
       "      <td>...</td>\n",
       "      <td>...</td>\n",
       "      <td>...</td>\n",
       "      <td>...</td>\n",
       "      <td>...</td>\n",
       "      <td>...</td>\n",
       "      <td>...</td>\n",
       "      <td>...</td>\n",
       "      <td>...</td>\n",
       "      <td>...</td>\n",
       "      <td>...</td>\n",
       "      <td>...</td>\n",
       "    </tr>\n",
       "    <tr>\n",
       "      <th>OECD</th>\n",
       "      <td>5873</td>\n",
       "      <td>7018</td>\n",
       "      <td>JunJulAug</td>\n",
       "      <td>6078</td>\n",
       "      <td>Standard Deviation</td>\n",
       "      <td>°C</td>\n",
       "      <td>0.247</td>\n",
       "      <td>0.247</td>\n",
       "      <td>0.247</td>\n",
       "      <td>0.247</td>\n",
       "      <td>...</td>\n",
       "      <td>0.247</td>\n",
       "      <td>0.247</td>\n",
       "      <td>0.247</td>\n",
       "      <td>0.247</td>\n",
       "      <td>0.247</td>\n",
       "      <td>0.247</td>\n",
       "      <td>0.247</td>\n",
       "      <td>0.247</td>\n",
       "      <td>0.247</td>\n",
       "      <td>0.247</td>\n",
       "    </tr>\n",
       "    <tr>\n",
       "      <th>OECD</th>\n",
       "      <td>5873</td>\n",
       "      <td>7019</td>\n",
       "      <td>SepOctNov</td>\n",
       "      <td>7271</td>\n",
       "      <td>Temperature change</td>\n",
       "      <td>°C</td>\n",
       "      <td>0.036</td>\n",
       "      <td>0.461</td>\n",
       "      <td>0.665</td>\n",
       "      <td>-0.157</td>\n",
       "      <td>...</td>\n",
       "      <td>0.958</td>\n",
       "      <td>1.106</td>\n",
       "      <td>0.885</td>\n",
       "      <td>1.041</td>\n",
       "      <td>0.999</td>\n",
       "      <td>1.670</td>\n",
       "      <td>1.535</td>\n",
       "      <td>1.194</td>\n",
       "      <td>0.581</td>\n",
       "      <td>1.233</td>\n",
       "    </tr>\n",
       "    <tr>\n",
       "      <th>OECD</th>\n",
       "      <td>5873</td>\n",
       "      <td>7019</td>\n",
       "      <td>SepOctNov</td>\n",
       "      <td>6078</td>\n",
       "      <td>Standard Deviation</td>\n",
       "      <td>°C</td>\n",
       "      <td>0.378</td>\n",
       "      <td>0.378</td>\n",
       "      <td>0.378</td>\n",
       "      <td>0.378</td>\n",
       "      <td>...</td>\n",
       "      <td>0.378</td>\n",
       "      <td>0.378</td>\n",
       "      <td>0.378</td>\n",
       "      <td>0.378</td>\n",
       "      <td>0.378</td>\n",
       "      <td>0.378</td>\n",
       "      <td>0.378</td>\n",
       "      <td>0.378</td>\n",
       "      <td>0.378</td>\n",
       "      <td>0.378</td>\n",
       "    </tr>\n",
       "    <tr>\n",
       "      <th>OECD</th>\n",
       "      <td>5873</td>\n",
       "      <td>7020</td>\n",
       "      <td>Meteorological year</td>\n",
       "      <td>7271</td>\n",
       "      <td>Temperature change</td>\n",
       "      <td>°C</td>\n",
       "      <td>0.165</td>\n",
       "      <td>-0.009</td>\n",
       "      <td>0.134</td>\n",
       "      <td>-0.190</td>\n",
       "      <td>...</td>\n",
       "      <td>1.246</td>\n",
       "      <td>0.805</td>\n",
       "      <td>1.274</td>\n",
       "      <td>0.991</td>\n",
       "      <td>0.811</td>\n",
       "      <td>1.282</td>\n",
       "      <td>1.850</td>\n",
       "      <td>1.349</td>\n",
       "      <td>1.088</td>\n",
       "      <td>1.297</td>\n",
       "    </tr>\n",
       "    <tr>\n",
       "      <th>OECD</th>\n",
       "      <td>5873</td>\n",
       "      <td>7020</td>\n",
       "      <td>Meteorological year</td>\n",
       "      <td>6078</td>\n",
       "      <td>Standard Deviation</td>\n",
       "      <td>°C</td>\n",
       "      <td>0.260</td>\n",
       "      <td>0.260</td>\n",
       "      <td>0.260</td>\n",
       "      <td>0.260</td>\n",
       "      <td>...</td>\n",
       "      <td>0.260</td>\n",
       "      <td>0.260</td>\n",
       "      <td>0.260</td>\n",
       "      <td>0.260</td>\n",
       "      <td>0.260</td>\n",
       "      <td>0.260</td>\n",
       "      <td>0.260</td>\n",
       "      <td>0.260</td>\n",
       "      <td>0.260</td>\n",
       "      <td>0.260</td>\n",
       "    </tr>\n",
       "  </tbody>\n",
       "</table>\n",
       "<p>9639 rows × 65 columns</p>\n",
       "</div>"
      ],
      "text/plain": [
       "             Area Code  Months Code               Months  Element Code  \\\n",
       "Area                                                                     \n",
       "Afghanistan          2         7001              January          7271   \n",
       "Afghanistan          2         7001              January          6078   \n",
       "Afghanistan          2         7002             February          7271   \n",
       "Afghanistan          2         7002             February          6078   \n",
       "Afghanistan          2         7003                March          7271   \n",
       "...                ...          ...                  ...           ...   \n",
       "OECD              5873         7018          JunJulAug          6078   \n",
       "OECD              5873         7019          SepOctNov          7271   \n",
       "OECD              5873         7019          SepOctNov          6078   \n",
       "OECD              5873         7020  Meteorological year          7271   \n",
       "OECD              5873         7020  Meteorological year          6078   \n",
       "\n",
       "                        Element Unit  Y1961  Y1962  Y1963  Y1964  ...  Y2010  \\\n",
       "Area                                                              ...          \n",
       "Afghanistan  Temperature change   °C  0.777  0.062  2.744 -5.232  ...  3.601   \n",
       "Afghanistan  Standard Deviation   °C  1.950  1.950  1.950  1.950  ...  1.950   \n",
       "Afghanistan  Temperature change   °C -1.743  2.465  3.919 -0.202  ...  1.212   \n",
       "Afghanistan  Standard Deviation   °C  2.597  2.597  2.597  2.597  ...  2.597   \n",
       "Afghanistan  Temperature change   °C  0.516  1.336  0.403  1.659  ...  3.390   \n",
       "...                         ...  ...    ...    ...    ...    ...  ...    ...   \n",
       "OECD         Standard Deviation   °C  0.247  0.247  0.247  0.247  ...  0.247   \n",
       "OECD         Temperature change   °C  0.036  0.461  0.665 -0.157  ...  0.958   \n",
       "OECD         Standard Deviation   °C  0.378  0.378  0.378  0.378  ...  0.378   \n",
       "OECD         Temperature change   °C  0.165 -0.009  0.134 -0.190  ...  1.246   \n",
       "OECD         Standard Deviation   °C  0.260  0.260  0.260  0.260  ...  0.260   \n",
       "\n",
       "             Y2011  Y2012  Y2013  Y2014  Y2015  Y2016  Y2017  Y2018  Y2019  \n",
       "Area                                                                        \n",
       "Afghanistan  1.179 -0.583  1.233  1.755  1.943  3.416  1.201  1.996  2.951  \n",
       "Afghanistan  1.950  1.950  1.950  1.950  1.950  1.950  1.950  1.950  1.950  \n",
       "Afghanistan  0.321 -3.201  1.494 -3.187  2.699  2.251 -0.323  2.705  0.086  \n",
       "Afghanistan  2.597  2.597  2.597  2.597  2.597  2.597  2.597  2.597  2.597  \n",
       "Afghanistan  0.748 -0.527  2.246 -0.076 -0.497  2.296  0.834  4.418  0.234  \n",
       "...            ...    ...    ...    ...    ...    ...    ...    ...    ...  \n",
       "OECD         0.247  0.247  0.247  0.247  0.247  0.247  0.247  0.247  0.247  \n",
       "OECD         1.106  0.885  1.041  0.999  1.670  1.535  1.194  0.581  1.233  \n",
       "OECD         0.378  0.378  0.378  0.378  0.378  0.378  0.378  0.378  0.378  \n",
       "OECD         0.805  1.274  0.991  0.811  1.282  1.850  1.349  1.088  1.297  \n",
       "OECD         0.260  0.260  0.260  0.260  0.260  0.260  0.260  0.260  0.260  \n",
       "\n",
       "[9639 rows x 65 columns]"
      ]
     },
     "execution_count": 774,
     "metadata": {},
     "output_type": "execute_result"
    }
   ],
   "source": [
    "data_frame_temperature = pd.read_csv('../challenge/csv/Environment_Temperature_change_E_All_Data_NOFLAG.csv',parse_dates=True,encoding='latin1',index_col=1)\n",
    "data_frame_temperature\n"
   ]
  },
  {
   "cell_type": "code",
   "execution_count": 775,
   "id": "19538f92",
   "metadata": {},
   "outputs": [
    {
     "data": {
      "text/html": [
       "<div>\n",
       "<style scoped>\n",
       "    .dataframe tbody tr th:only-of-type {\n",
       "        vertical-align: middle;\n",
       "    }\n",
       "\n",
       "    .dataframe tbody tr th {\n",
       "        vertical-align: top;\n",
       "    }\n",
       "\n",
       "    .dataframe thead th {\n",
       "        text-align: right;\n",
       "    }\n",
       "</style>\n",
       "<table border=\"1\" class=\"dataframe\">\n",
       "  <thead>\n",
       "    <tr style=\"text-align: right;\">\n",
       "      <th></th>\n",
       "      <th>Y1961</th>\n",
       "      <th>Y1962</th>\n",
       "      <th>Y1963</th>\n",
       "      <th>Y1964</th>\n",
       "      <th>Y1965</th>\n",
       "      <th>Y1966</th>\n",
       "      <th>Y1967</th>\n",
       "      <th>Y1968</th>\n",
       "      <th>Y1969</th>\n",
       "      <th>Y1970</th>\n",
       "      <th>...</th>\n",
       "      <th>Y2005</th>\n",
       "      <th>Y2006</th>\n",
       "      <th>Y2007</th>\n",
       "      <th>Y2008</th>\n",
       "      <th>Y2009</th>\n",
       "      <th>Y2010</th>\n",
       "      <th>Y2011</th>\n",
       "      <th>Y2012</th>\n",
       "      <th>Y2013</th>\n",
       "      <th>Y2014</th>\n",
       "    </tr>\n",
       "    <tr>\n",
       "      <th>Area</th>\n",
       "      <th></th>\n",
       "      <th></th>\n",
       "      <th></th>\n",
       "      <th></th>\n",
       "      <th></th>\n",
       "      <th></th>\n",
       "      <th></th>\n",
       "      <th></th>\n",
       "      <th></th>\n",
       "      <th></th>\n",
       "      <th></th>\n",
       "      <th></th>\n",
       "      <th></th>\n",
       "      <th></th>\n",
       "      <th></th>\n",
       "      <th></th>\n",
       "      <th></th>\n",
       "      <th></th>\n",
       "      <th></th>\n",
       "      <th></th>\n",
       "      <th></th>\n",
       "    </tr>\n",
       "  </thead>\n",
       "  <tbody>\n",
       "    <tr>\n",
       "      <th>World</th>\n",
       "      <td>0.399</td>\n",
       "      <td>0.104</td>\n",
       "      <td>-0.171</td>\n",
       "      <td>-0.311</td>\n",
       "      <td>0.206</td>\n",
       "      <td>0.458</td>\n",
       "      <td>-0.289</td>\n",
       "      <td>-0.393</td>\n",
       "      <td>-0.859</td>\n",
       "      <td>0.078</td>\n",
       "      <td>...</td>\n",
       "      <td>1.174</td>\n",
       "      <td>0.722</td>\n",
       "      <td>2.087</td>\n",
       "      <td>0.321</td>\n",
       "      <td>1.086</td>\n",
       "      <td>1.092</td>\n",
       "      <td>0.700</td>\n",
       "      <td>0.654</td>\n",
       "      <td>1.131</td>\n",
       "      <td>1.174</td>\n",
       "    </tr>\n",
       "    <tr>\n",
       "      <th>World</th>\n",
       "      <td>0.263</td>\n",
       "      <td>0.218</td>\n",
       "      <td>0.563</td>\n",
       "      <td>-0.409</td>\n",
       "      <td>-0.450</td>\n",
       "      <td>0.756</td>\n",
       "      <td>-0.557</td>\n",
       "      <td>-0.412</td>\n",
       "      <td>-0.658</td>\n",
       "      <td>0.612</td>\n",
       "      <td>...</td>\n",
       "      <td>0.826</td>\n",
       "      <td>1.368</td>\n",
       "      <td>1.215</td>\n",
       "      <td>0.654</td>\n",
       "      <td>1.115</td>\n",
       "      <td>1.287</td>\n",
       "      <td>0.560</td>\n",
       "      <td>0.491</td>\n",
       "      <td>1.305</td>\n",
       "      <td>0.555</td>\n",
       "    </tr>\n",
       "    <tr>\n",
       "      <th>World</th>\n",
       "      <td>0.254</td>\n",
       "      <td>0.279</td>\n",
       "      <td>-0.237</td>\n",
       "      <td>-0.287</td>\n",
       "      <td>-0.272</td>\n",
       "      <td>0.391</td>\n",
       "      <td>-0.117</td>\n",
       "      <td>0.423</td>\n",
       "      <td>-0.018</td>\n",
       "      <td>-0.043</td>\n",
       "      <td>...</td>\n",
       "      <td>1.315</td>\n",
       "      <td>1.192</td>\n",
       "      <td>1.261</td>\n",
       "      <td>1.818</td>\n",
       "      <td>0.988</td>\n",
       "      <td>1.574</td>\n",
       "      <td>1.007</td>\n",
       "      <td>0.892</td>\n",
       "      <td>1.109</td>\n",
       "      <td>1.429</td>\n",
       "    </tr>\n",
       "    <tr>\n",
       "      <th>World</th>\n",
       "      <td>0.278</td>\n",
       "      <td>0.027</td>\n",
       "      <td>0.002</td>\n",
       "      <td>-0.167</td>\n",
       "      <td>-0.574</td>\n",
       "      <td>-0.018</td>\n",
       "      <td>-0.174</td>\n",
       "      <td>-0.137</td>\n",
       "      <td>0.047</td>\n",
       "      <td>0.357</td>\n",
       "      <td>...</td>\n",
       "      <td>1.414</td>\n",
       "      <td>0.776</td>\n",
       "      <td>1.497</td>\n",
       "      <td>0.834</td>\n",
       "      <td>1.106</td>\n",
       "      <td>1.534</td>\n",
       "      <td>1.243</td>\n",
       "      <td>1.552</td>\n",
       "      <td>0.901</td>\n",
       "      <td>1.459</td>\n",
       "    </tr>\n",
       "    <tr>\n",
       "      <th>World</th>\n",
       "      <td>0.367</td>\n",
       "      <td>-0.183</td>\n",
       "      <td>-0.029</td>\n",
       "      <td>-0.097</td>\n",
       "      <td>-0.141</td>\n",
       "      <td>-0.069</td>\n",
       "      <td>0.238</td>\n",
       "      <td>-0.333</td>\n",
       "      <td>0.228</td>\n",
       "      <td>0.160</td>\n",
       "      <td>...</td>\n",
       "      <td>1.070</td>\n",
       "      <td>0.722</td>\n",
       "      <td>1.094</td>\n",
       "      <td>0.820</td>\n",
       "      <td>0.801</td>\n",
       "      <td>1.271</td>\n",
       "      <td>0.856</td>\n",
       "      <td>1.397</td>\n",
       "      <td>1.185</td>\n",
       "      <td>1.227</td>\n",
       "    </tr>\n",
       "    <tr>\n",
       "      <th>World</th>\n",
       "      <td>0.313</td>\n",
       "      <td>-0.208</td>\n",
       "      <td>-0.120</td>\n",
       "      <td>-0.089</td>\n",
       "      <td>-0.036</td>\n",
       "      <td>0.279</td>\n",
       "      <td>-0.354</td>\n",
       "      <td>-0.217</td>\n",
       "      <td>0.023</td>\n",
       "      <td>0.180</td>\n",
       "      <td>...</td>\n",
       "      <td>1.095</td>\n",
       "      <td>1.118</td>\n",
       "      <td>0.782</td>\n",
       "      <td>0.804</td>\n",
       "      <td>0.828</td>\n",
       "      <td>1.227</td>\n",
       "      <td>1.046</td>\n",
       "      <td>1.313</td>\n",
       "      <td>1.180</td>\n",
       "      <td>1.060</td>\n",
       "    </tr>\n",
       "    <tr>\n",
       "      <th>World</th>\n",
       "      <td>0.007</td>\n",
       "      <td>-0.035</td>\n",
       "      <td>0.208</td>\n",
       "      <td>-0.235</td>\n",
       "      <td>-0.290</td>\n",
       "      <td>0.270</td>\n",
       "      <td>-0.214</td>\n",
       "      <td>-0.195</td>\n",
       "      <td>-0.065</td>\n",
       "      <td>0.055</td>\n",
       "      <td>...</td>\n",
       "      <td>0.983</td>\n",
       "      <td>0.984</td>\n",
       "      <td>0.826</td>\n",
       "      <td>0.891</td>\n",
       "      <td>0.741</td>\n",
       "      <td>1.235</td>\n",
       "      <td>1.060</td>\n",
       "      <td>1.083</td>\n",
       "      <td>0.882</td>\n",
       "      <td>0.863</td>\n",
       "    </tr>\n",
       "    <tr>\n",
       "      <th>World</th>\n",
       "      <td>-0.001</td>\n",
       "      <td>-0.007</td>\n",
       "      <td>0.159</td>\n",
       "      <td>-0.362</td>\n",
       "      <td>-0.247</td>\n",
       "      <td>0.159</td>\n",
       "      <td>-0.028</td>\n",
       "      <td>-0.215</td>\n",
       "      <td>0.042</td>\n",
       "      <td>0.110</td>\n",
       "      <td>...</td>\n",
       "      <td>0.878</td>\n",
       "      <td>0.963</td>\n",
       "      <td>0.929</td>\n",
       "      <td>0.811</td>\n",
       "      <td>0.959</td>\n",
       "      <td>1.108</td>\n",
       "      <td>1.033</td>\n",
       "      <td>1.043</td>\n",
       "      <td>0.856</td>\n",
       "      <td>1.069</td>\n",
       "    </tr>\n",
       "    <tr>\n",
       "      <th>World</th>\n",
       "      <td>-0.063</td>\n",
       "      <td>-0.023</td>\n",
       "      <td>0.374</td>\n",
       "      <td>-0.256</td>\n",
       "      <td>-0.146</td>\n",
       "      <td>-0.076</td>\n",
       "      <td>-0.016</td>\n",
       "      <td>0.019</td>\n",
       "      <td>-0.076</td>\n",
       "      <td>-0.126</td>\n",
       "      <td>...</td>\n",
       "      <td>1.134</td>\n",
       "      <td>0.910</td>\n",
       "      <td>1.007</td>\n",
       "      <td>0.701</td>\n",
       "      <td>1.204</td>\n",
       "      <td>0.940</td>\n",
       "      <td>1.023</td>\n",
       "      <td>1.140</td>\n",
       "      <td>0.883</td>\n",
       "      <td>0.903</td>\n",
       "    </tr>\n",
       "    <tr>\n",
       "      <th>World</th>\n",
       "      <td>-0.123</td>\n",
       "      <td>0.250</td>\n",
       "      <td>0.653</td>\n",
       "      <td>-0.460</td>\n",
       "      <td>-0.056</td>\n",
       "      <td>0.039</td>\n",
       "      <td>0.332</td>\n",
       "      <td>-0.007</td>\n",
       "      <td>0.047</td>\n",
       "      <td>-0.144</td>\n",
       "      <td>...</td>\n",
       "      <td>1.298</td>\n",
       "      <td>1.205</td>\n",
       "      <td>1.153</td>\n",
       "      <td>1.289</td>\n",
       "      <td>0.900</td>\n",
       "      <td>1.198</td>\n",
       "      <td>1.186</td>\n",
       "      <td>1.144</td>\n",
       "      <td>1.032</td>\n",
       "      <td>1.065</td>\n",
       "    </tr>\n",
       "    <tr>\n",
       "      <th>World</th>\n",
       "      <td>0.138</td>\n",
       "      <td>0.201</td>\n",
       "      <td>0.392</td>\n",
       "      <td>-0.135</td>\n",
       "      <td>-0.057</td>\n",
       "      <td>-0.063</td>\n",
       "      <td>0.025</td>\n",
       "      <td>0.237</td>\n",
       "      <td>0.286</td>\n",
       "      <td>0.132</td>\n",
       "      <td>...</td>\n",
       "      <td>1.527</td>\n",
       "      <td>0.965</td>\n",
       "      <td>1.063</td>\n",
       "      <td>1.333</td>\n",
       "      <td>1.060</td>\n",
       "      <td>1.664</td>\n",
       "      <td>0.741</td>\n",
       "      <td>1.204</td>\n",
       "      <td>1.492</td>\n",
       "      <td>0.761</td>\n",
       "    </tr>\n",
       "    <tr>\n",
       "      <th>World</th>\n",
       "      <td>-0.217</td>\n",
       "      <td>0.113</td>\n",
       "      <td>-0.225</td>\n",
       "      <td>-0.643</td>\n",
       "      <td>0.285</td>\n",
       "      <td>-0.218</td>\n",
       "      <td>-0.208</td>\n",
       "      <td>-0.075</td>\n",
       "      <td>0.469</td>\n",
       "      <td>-0.389</td>\n",
       "      <td>...</td>\n",
       "      <td>1.086</td>\n",
       "      <td>1.463</td>\n",
       "      <td>0.982</td>\n",
       "      <td>0.809</td>\n",
       "      <td>0.610</td>\n",
       "      <td>0.635</td>\n",
       "      <td>1.054</td>\n",
       "      <td>0.298</td>\n",
       "      <td>1.057</td>\n",
       "      <td>1.342</td>\n",
       "    </tr>\n",
       "  </tbody>\n",
       "</table>\n",
       "<p>12 rows × 54 columns</p>\n",
       "</div>"
      ],
      "text/plain": [
       "       Y1961  Y1962  Y1963  Y1964  Y1965  Y1966  Y1967  Y1968  Y1969  Y1970  \\\n",
       "Area                                                                          \n",
       "World  0.399  0.104 -0.171 -0.311  0.206  0.458 -0.289 -0.393 -0.859  0.078   \n",
       "World  0.263  0.218  0.563 -0.409 -0.450  0.756 -0.557 -0.412 -0.658  0.612   \n",
       "World  0.254  0.279 -0.237 -0.287 -0.272  0.391 -0.117  0.423 -0.018 -0.043   \n",
       "World  0.278  0.027  0.002 -0.167 -0.574 -0.018 -0.174 -0.137  0.047  0.357   \n",
       "World  0.367 -0.183 -0.029 -0.097 -0.141 -0.069  0.238 -0.333  0.228  0.160   \n",
       "World  0.313 -0.208 -0.120 -0.089 -0.036  0.279 -0.354 -0.217  0.023  0.180   \n",
       "World  0.007 -0.035  0.208 -0.235 -0.290  0.270 -0.214 -0.195 -0.065  0.055   \n",
       "World -0.001 -0.007  0.159 -0.362 -0.247  0.159 -0.028 -0.215  0.042  0.110   \n",
       "World -0.063 -0.023  0.374 -0.256 -0.146 -0.076 -0.016  0.019 -0.076 -0.126   \n",
       "World -0.123  0.250  0.653 -0.460 -0.056  0.039  0.332 -0.007  0.047 -0.144   \n",
       "World  0.138  0.201  0.392 -0.135 -0.057 -0.063  0.025  0.237  0.286  0.132   \n",
       "World -0.217  0.113 -0.225 -0.643  0.285 -0.218 -0.208 -0.075  0.469 -0.389   \n",
       "\n",
       "       ...  Y2005  Y2006  Y2007  Y2008  Y2009  Y2010  Y2011  Y2012  Y2013  \\\n",
       "Area   ...                                                                  \n",
       "World  ...  1.174  0.722  2.087  0.321  1.086  1.092  0.700  0.654  1.131   \n",
       "World  ...  0.826  1.368  1.215  0.654  1.115  1.287  0.560  0.491  1.305   \n",
       "World  ...  1.315  1.192  1.261  1.818  0.988  1.574  1.007  0.892  1.109   \n",
       "World  ...  1.414  0.776  1.497  0.834  1.106  1.534  1.243  1.552  0.901   \n",
       "World  ...  1.070  0.722  1.094  0.820  0.801  1.271  0.856  1.397  1.185   \n",
       "World  ...  1.095  1.118  0.782  0.804  0.828  1.227  1.046  1.313  1.180   \n",
       "World  ...  0.983  0.984  0.826  0.891  0.741  1.235  1.060  1.083  0.882   \n",
       "World  ...  0.878  0.963  0.929  0.811  0.959  1.108  1.033  1.043  0.856   \n",
       "World  ...  1.134  0.910  1.007  0.701  1.204  0.940  1.023  1.140  0.883   \n",
       "World  ...  1.298  1.205  1.153  1.289  0.900  1.198  1.186  1.144  1.032   \n",
       "World  ...  1.527  0.965  1.063  1.333  1.060  1.664  0.741  1.204  1.492   \n",
       "World  ...  1.086  1.463  0.982  0.809  0.610  0.635  1.054  0.298  1.057   \n",
       "\n",
       "       Y2014  \n",
       "Area          \n",
       "World  1.174  \n",
       "World  0.555  \n",
       "World  1.429  \n",
       "World  1.459  \n",
       "World  1.227  \n",
       "World  1.060  \n",
       "World  0.863  \n",
       "World  1.069  \n",
       "World  0.903  \n",
       "World  1.065  \n",
       "World  0.761  \n",
       "World  1.342  \n",
       "\n",
       "[12 rows x 54 columns]"
      ]
     },
     "execution_count": 775,
     "metadata": {},
     "output_type": "execute_result"
    }
   ],
   "source": [
    "data_frame_temperature=data_frame_temperature.loc['World']\n",
    "data_frame_temperature=data_frame_temperature.iloc[0:12,:60]\n",
    "data_frame_temperature=data_frame_temperature.iloc[:,6:]\n",
    "data_frame_temperature"
   ]
  },
  {
   "cell_type": "code",
   "execution_count": 776,
   "id": "cb60eb83",
   "metadata": {},
   "outputs": [
    {
     "data": {
      "text/plain": [
       "Y1961     1.615\n",
       "Y1962     0.736\n",
       "Y1963     1.569\n",
       "Y1964    -3.451\n",
       "Y1965    -1.778\n",
       "Y1966     1.908\n",
       "Y1967    -1.362\n",
       "Y1968    -1.305\n",
       "Y1969    -0.534\n",
       "Y1970     0.982\n",
       "Y1971    -0.586\n",
       "Y1972    -2.591\n",
       "Y1973     3.325\n",
       "Y1974    -2.327\n",
       "Y1975     0.995\n",
       "Y1976    -3.501\n",
       "Y1977     3.331\n",
       "Y1978     0.232\n",
       "Y1979     3.387\n",
       "Y1980     3.361\n",
       "Y1981     5.754\n",
       "Y1982     0.493\n",
       "Y1983     5.052\n",
       "Y1984     0.604\n",
       "Y1985     0.657\n",
       "Y1986     2.849\n",
       "Y1987     5.611\n",
       "Y1988     6.008\n",
       "Y1989     3.903\n",
       "Y1990     7.663\n",
       "Y1991     5.163\n",
       "Y1992     2.462\n",
       "Y1993     4.214\n",
       "Y1994     6.036\n",
       "Y1995     9.838\n",
       "Y1996     4.424\n",
       "Y1997     7.970\n",
       "Y1998    12.291\n",
       "Y1999     9.535\n",
       "Y2000     7.922\n",
       "Y2001    10.566\n",
       "Y2002    11.817\n",
       "Y2003    11.845\n",
       "Y2004    10.050\n",
       "Y2005    13.800\n",
       "Y2006    12.388\n",
       "Y2007    13.896\n",
       "Y2008    11.085\n",
       "Y2009    11.398\n",
       "Y2010    14.765\n",
       "Y2011    11.509\n",
       "Y2012    12.211\n",
       "Y2013    13.013\n",
       "Y2014    12.907\n",
       "dtype: float64"
      ]
     },
     "execution_count": 776,
     "metadata": {},
     "output_type": "execute_result"
    }
   ],
   "source": [
    "# data_frame_temperature=data_frame_temperature.sum(axis=0)\n",
    "# data_frame_temperature_Year = data_frame_temperature\n",
    "# data_frame_temperature\n",
    "data_frame_temperature=data_frame_temperature.reset_index(drop=True)\n",
    "data_frame_temperature=data_frame_temperature.sum(axis=0)\n",
    "data_frame_temperature"
   ]
  },
  {
   "cell_type": "markdown",
   "id": "ff373652",
   "metadata": {},
   "source": [
    "## Mean temperature"
   ]
  },
  {
   "cell_type": "code",
   "execution_count": 777,
   "id": "ea418a18",
   "metadata": {
    "hide_input": false
   },
   "outputs": [
    {
     "data": {
      "text/plain": [
       "5.253796296296296"
      ]
     },
     "execution_count": 777,
     "metadata": {},
     "output_type": "execute_result"
    }
   ],
   "source": [
    "mean_temperature=np.mean(data_frame_temperature)\n",
    "mean_temperature"
   ]
  },
  {
   "cell_type": "markdown",
   "id": "9eb62075",
   "metadata": {},
   "source": [
    "## Median temperature "
   ]
  },
  {
   "cell_type": "code",
   "execution_count": 778,
   "id": "35844288",
   "metadata": {},
   "outputs": [
    {
     "data": {
      "text/plain": [
       "4.318999999999999"
      ]
     },
     "execution_count": 778,
     "metadata": {},
     "output_type": "execute_result"
    }
   ],
   "source": [
    "median_temperature = np.median(data_frame_temperature)\n",
    "median_temperature"
   ]
  },
  {
   "cell_type": "markdown",
   "id": "8c7148c5",
   "metadata": {},
   "source": [
    "## Weight Mean temperature"
   ]
  },
  {
   "cell_type": "code",
   "execution_count": 779,
   "id": "c4a87726",
   "metadata": {},
   "outputs": [
    {
     "data": {
      "text/plain": [
       "6.906824074074075"
      ]
     },
     "execution_count": 779,
     "metadata": {},
     "output_type": "execute_result"
    }
   ],
   "source": [
    "weights = [1/6,1/3,1/2]\n",
    "weight_mean_temperature = (sum(data_frame_temperature['Y1961':'Y1979'])*weights[0])+(sum(data_frame_temperature['Y1980':'Y1999']*weights[1]))+sum((data_frame_temperature['Y2000':'Y2019']*weights[2]))\n",
    "weight_mean_temperature/(weights[0]*17+weights[1]*17+weights[2]*19)"
   ]
  },
  {
   "cell_type": "markdown",
   "id": "377d457c",
   "metadata": {},
   "source": [
    "## Mode temperature"
   ]
  },
  {
   "cell_type": "code",
   "execution_count": 780,
   "id": "0240fecc",
   "metadata": {},
   "outputs": [
    {
     "data": {
      "text/plain": [
       "ModeResult(mode=array([-3.501]), count=array([1]))"
      ]
     },
     "execution_count": 780,
     "metadata": {},
     "output_type": "execute_result"
    }
   ],
   "source": [
    "mode_temperature = stats.mode(data_frame_temperature)\n",
    "mode_temperature"
   ]
  },
  {
   "cell_type": "markdown",
   "id": "f244f561",
   "metadata": {},
   "source": [
    "# Glacier"
   ]
  },
  {
   "cell_type": "code",
   "execution_count": 433,
   "id": "312048f5",
   "metadata": {},
   "outputs": [
    {
     "data": {
      "text/plain": [
       "Year\n",
       "1961-01-01    -8.935\n",
       "1962-01-01    -9.109\n",
       "1963-01-01    -9.567\n",
       "1964-01-01    -9.699\n",
       "1965-01-01    -9.298\n",
       "1966-01-01    -9.436\n",
       "1967-01-01    -9.303\n",
       "1968-01-01    -9.219\n",
       "1969-01-01    -9.732\n",
       "1970-01-01   -10.128\n",
       "1971-01-01   -10.288\n",
       "1972-01-01   -10.441\n",
       "1973-01-01   -10.538\n",
       "1974-01-01   -10.613\n",
       "1975-01-01   -10.534\n",
       "1976-01-01   -10.633\n",
       "1977-01-01   -10.682\n",
       "1978-01-01   -10.754\n",
       "1979-01-01   -11.127\n",
       "1980-01-01   -11.318\n",
       "1981-01-01   -11.394\n",
       "1982-01-01   -11.849\n",
       "1983-01-01   -11.846\n",
       "1984-01-01   -11.902\n",
       "1985-01-01   -12.238\n",
       "1986-01-01   -12.782\n",
       "1987-01-01   -12.795\n",
       "1988-01-01   -13.260\n",
       "1989-01-01   -13.343\n",
       "1990-01-01   -13.687\n",
       "1991-01-01   -14.255\n",
       "1992-01-01   -14.501\n",
       "1993-01-01   -14.695\n",
       "1994-01-01   -15.276\n",
       "1995-01-01   -15.486\n",
       "1996-01-01   -15.890\n",
       "1997-01-01   -16.487\n",
       "1998-01-01   -17.310\n",
       "1999-01-01   -17.697\n",
       "2000-01-01   -17.727\n",
       "2001-01-01   -18.032\n",
       "2002-01-01   -18.726\n",
       "2003-01-01   -19.984\n",
       "2004-01-01   -20.703\n",
       "2005-01-01   -21.405\n",
       "2006-01-01   -22.595\n",
       "2007-01-01   -23.255\n",
       "2008-01-01   -23.776\n",
       "2009-01-01   -24.459\n",
       "2010-01-01   -25.158\n",
       "2011-01-01   -26.294\n",
       "2012-01-01   -26.930\n",
       "2013-01-01   -27.817\n",
       "2014-01-01   -28.652\n",
       "Name: Mean cumulative mass balance, dtype: float64"
      ]
     },
     "execution_count": 433,
     "metadata": {},
     "output_type": "execute_result"
    }
   ],
   "source": [
    "data_frame_glacier = pd.read_csv('csv/glacier.csv',parse_dates=True,encoding='latin1',index_col=0)[1:]\n",
    "data_frame_glacier=data_frame_glacier['Mean cumulative mass balance']\n",
    "data_frame_glacier=data_frame_glacier['1961-01-01 ':]\n",
    "data_frame_glacier"
   ]
  },
  {
   "cell_type": "markdown",
   "id": "b298a758",
   "metadata": {},
   "source": [
    "## Mean Glacier"
   ]
  },
  {
   "cell_type": "code",
   "execution_count": 693,
   "id": "490f51c3",
   "metadata": {},
   "outputs": [
    {
     "data": {
      "text/plain": [
       "-15.065925925925923"
      ]
     },
     "execution_count": 693,
     "metadata": {},
     "output_type": "execute_result"
    }
   ],
   "source": [
    "#meanGlacier=sum(data_frame_glacier)/69\n",
    "mean_glacier = np.mean(data_frame_glacier)\n",
    "mean_glacier"
   ]
  },
  {
   "cell_type": "markdown",
   "id": "f1c98fa2",
   "metadata": {},
   "source": [
    "## Median Glacier"
   ]
  },
  {
   "cell_type": "code",
   "execution_count": 694,
   "id": "afd66997",
   "metadata": {},
   "outputs": [
    {
     "data": {
      "text/plain": [
       "-13.0275"
      ]
     },
     "execution_count": 694,
     "metadata": {},
     "output_type": "execute_result"
    }
   ],
   "source": [
    "\n",
    "median_glacier = np.median(data_frame_glacier)\n",
    "# medianGlacier = (len(sorted(data_frame_glacier))+1)/2\n",
    "median_glacier"
   ]
  },
  {
   "cell_type": "markdown",
   "id": "52a572e8",
   "metadata": {},
   "source": [
    "## Weight Mean Glacier"
   ]
  },
  {
   "cell_type": "code",
   "execution_count": 695,
   "id": "22809906",
   "metadata": {},
   "outputs": [
    {
     "data": {
      "text/plain": [
       "-16.977114285714283"
      ]
     },
     "execution_count": 695,
     "metadata": {},
     "output_type": "execute_result"
    }
   ],
   "source": [
    "weight_mean_glacier = (sum(data_frame_glacier['1961-01-01':'1979-01-01'])*weights[0])+(sum(data_frame_glacier['1980-01-01':'1999-01-01']*weights[1]))+sum((data_frame_glacier['2000-01-01':]*weights[2]))\n",
    "weight_mean_glacier/(weights[0]*17+weights[1]*17+weights[2]*18)"
   ]
  },
  {
   "cell_type": "markdown",
   "id": "772b522f",
   "metadata": {},
   "source": [
    "## Mode Glacier"
   ]
  },
  {
   "cell_type": "code",
   "execution_count": 696,
   "id": "a9cb8d89",
   "metadata": {},
   "outputs": [
    {
     "data": {
      "text/plain": [
       "ModeResult(mode=array([-28.652]), count=array([1]))"
      ]
     },
     "execution_count": 696,
     "metadata": {},
     "output_type": "execute_result"
    }
   ],
   "source": [
    "mode_glacier = stats.mode(data_frame_glacier)\n",
    "mode_glacier"
   ]
  },
  {
   "cell_type": "markdown",
   "id": "6131f5f0",
   "metadata": {},
   "source": [
    "# Visualization"
   ]
  },
  {
   "cell_type": "markdown",
   "id": "3a16d500",
   "metadata": {},
   "source": [
    "## Temperature"
   ]
  },
  {
   "cell_type": "markdown",
   "id": "2900d175",
   "metadata": {},
   "source": [
    "### Change per year"
   ]
  },
  {
   "cell_type": "code",
   "execution_count": 791,
   "id": "fe1d7bb3",
   "metadata": {},
   "outputs": [
    {
     "data": {
      "text/plain": [
       "([<matplotlib.axis.XTick at 0x1d94f0b1d30>], [Text(0, 0, '')])"
      ]
     },
     "execution_count": 791,
     "metadata": {},
     "output_type": "execute_result"
    },
    {
     "data": {
      "image/png": "[encoded data removed]",
      "text/plain": [
       "<Figure size 1120x1120 with 1 Axes>"
      ]
     },
     "metadata": {
      "needs_background": "light"
     },
     "output_type": "display_data"
    }
   ],
   "source": [
    "plt.rcParams['figure.figsize'] = [8.0, 8.0]\n",
    "plt.rcParams['figure.dpi'] = 140\n",
    "plt.plot(data_frame_temperature)\n",
    "plt.xticks(['Year(Period 1961-2014)'])"
   ]
  },
  {
   "cell_type": "markdown",
   "id": "fcf65708",
   "metadata": {},
   "source": [
    "### Statistics"
   ]
  },
  {
   "cell_type": "code",
   "execution_count": 781,
   "id": "cee8872b",
   "metadata": {},
   "outputs": [
    {
     "data": {
      "image/png": "[encoded data removed]",
      "text/plain": [
       "<Figure size 1120x1120 with 2 Axes>"
      ]
     },
     "metadata": {
      "needs_background": "light"
     },
     "output_type": "display_data"
    }
   ],
   "source": [
    "import seaborn as sns\n",
    "\n",
    "df = pd.DataFrame({\" Temperature\": data_frame_temperature, \"Period\": range(54)})\n",
    "\n",
    "f, (ax_box, ax_hist) = plt.subplots(2, sharex=True, gridspec_kw= {\"height_ratios\": (0.2, 1)})\n",
    "\n",
    "sns.boxplot(data=df, x=\" Temperature\", ax=ax_box)\n",
    "ax_box.axvline(mean_temperature, color='r', linestyle='--')\n",
    "ax_box.axvline(median_temperature, color='g', linestyle='-')\n",
    "ax_box.axvline(mode_temperature[0][0], color='y', linestyle='-')\n",
    "\n",
    "sns.histplot(data=df, x=\" Temperature\", ax=ax_hist, kde=True)\n",
    "ax_hist.axvline(mean_temperature, color='r', linestyle='--', label=\"Mean\")\n",
    "ax_hist.axvline(median_temperature, color='g', linestyle='-', label=\"Median\")\n",
    "ax_hist.axvline(mode_temperature[0][0], color='y', linestyle='-', label=\"Mode\")\n",
    "\n",
    "ax_hist.legend()\n",
    "\n",
    "ax_box.set(xlabel='')\n",
    "plt.show()"
   ]
  },
  {
   "cell_type": "markdown",
   "id": "4ac3b602",
   "metadata": {},
   "source": [
    "## Glacier"
   ]
  },
  {
   "cell_type": "markdown",
   "id": "aa5332d2",
   "metadata": {},
   "source": [
    "### Decrease"
   ]
  },
  {
   "cell_type": "code",
   "execution_count": 686,
   "id": "298409f9",
   "metadata": {},
   "outputs": [
    {
     "data": {
      "text/plain": [
       "[<matplotlib.lines.Line2D at 0x1d941a89d00>]"
      ]
     },
     "execution_count": 686,
     "metadata": {},
     "output_type": "execute_result"
    },
    {
     "data": {
      "image/png": "[encoded data removed]",
      "text/plain": [
       "<Figure size 1120x1120 with 1 Axes>"
      ]
     },
     "metadata": {
      "needs_background": "light"
     },
     "output_type": "display_data"
    }
   ],
   "source": [
    "plt.plot(data_frame_glacier)"
   ]
  },
  {
   "cell_type": "markdown",
   "id": "c295ec56",
   "metadata": {},
   "source": [
    "### Statistics"
   ]
  },
  {
   "cell_type": "code",
   "execution_count": 697,
   "id": "4d897bb7",
   "metadata": {},
   "outputs": [
    {
     "data": {
      "image/png": "[encoded data removed]",
      "text/plain": [
       "<Figure size 1120x1120 with 2 Axes>"
      ]
     },
     "metadata": {
      "needs_background": "light"
     },
     "output_type": "display_data"
    }
   ],
   "source": [
    "df = pd.DataFrame({\" Temperature\": data_frame_glacier, \"Period\": range(54)})\n",
    "\n",
    "f, (ax_box, ax_hist) = plt.subplots(2, sharex=True, gridspec_kw= {\"height_ratios\": (0.2, 1)})\n",
    "\n",
    "sns.boxplot(data=df, x=\" Temperature\", ax=ax_box)\n",
    "ax_box.axvline(mean_glacier, color='r', linestyle='--')\n",
    "ax_box.axvline(median_glacier, color='g', linestyle='-')\n",
    "ax_box.axvline(mode_glacier[0][0], color='y', linestyle='-')\n",
    "\n",
    "sns.histplot(data=df, x=\" Temperature\", ax=ax_hist, kde=True)\n",
    "ax_hist.axvline(mean_glacier, color='r', linestyle='--', label=\"Mean\")\n",
    "ax_hist.axvline(median_glacier, color='g', linestyle='-', label=\"Median\")\n",
    "ax_hist.axvline(mode_glacier[0][0], color='y', linestyle='-', label=\"Mode\")\n",
    "\n",
    "ax_hist.legend()\n",
    "\n",
    "ax_box.set(xlabel='')\n",
    "plt.show()"
   ]
  }
 ],
 "metadata": {
  "hide_input": false,
  "kernelspec": {
   "display_name": "Python 3 (ipykernel)",
   "language": "python",
   "name": "python3"
  },
  "language_info": {
   "codemirror_mode": {
    "name": "ipython",
    "version": 3
   },
   "file_extension": ".py",
   "mimetype": "text/x-python",
   "name": "python",
   "nbconvert_exporter": "python",
   "pygments_lexer": "ipython3",
   "version": "3.9.7"
  },
  "toc": {
   "base_numbering": 1,
   "nav_menu": {},
   "number_sections": true,
   "sideBar": true,
   "skip_h1_title": false,
   "title_cell": "Table of Contents",
   "title_sidebar": "Contents",
   "toc_cell": false,
   "toc_position": {
    "height": "calc(100% - 180px)",
    "left": "10px",
    "top": "150px",
    "width": "273.188px"
   },
   "toc_section_display": true,
   "toc_window_display": false
  }
 },
 "nbformat": 4,
 "nbformat_minor": 5
}
